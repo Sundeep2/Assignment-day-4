{
  "nbformat": 4,
  "nbformat_minor": 0,
  "metadata": {
    "colab": {
      "name": "day 4.ipynb",
      "provenance": [],
      "collapsed_sections": []
    },
    "kernelspec": {
      "name": "python3",
      "display_name": "Python 3"
    },
    "language_info": {
      "name": "python"
    }
  },
  "cells": [
    {
      "cell_type": "code",
      "metadata": {
        "colab": {
          "base_uri": "https://localhost:8080/"
        },
        "id": "bLCXx4DCJdTZ",
        "outputId": "27bc15c4-4327-4661-973b-fddf189bc6dc"
      },
      "source": [
        "# you need to take decision for making Lockdown, \n",
        "#Number of positive cases\n",
        "#is the number of covid positive is more than 300000 per day, take lockdown\n",
        "#if it is more than 2000000 and less than 300000\n",
        "#300000, announce section 144, else itis okk\"dawaii bhi kaddaii bhiii\"\n",
        "covid=150000\n",
        "if covid  >300000:\n",
        "  print(\"get it lockdown\")\n",
        "elif covid>200000 and covid<300000:\n",
        "    print(\" announce 144\")\n",
        "else:\n",
        "  print(\"dawaii bhii kaddai bhi\")\n"
      ],
      "execution_count": null,
      "outputs": [
        {
          "output_type": "stream",
          "text": [
            "dawaii bhii kaddai bhi\n"
          ],
          "name": "stdout"
        }
      ]
    },
    {
      "cell_type": "code",
      "metadata": {
        "id": "DqmHmd1VYhcJ",
        "colab": {
          "base_uri": "https://localhost:8080/"
        },
        "outputId": "bb067a5e-684e-46ce-efe1-4b06b8789b7a"
      },
      "source": [
        "#write a function with the help for loop \n",
        "#for printing all the prime number from 1-100\n",
        "def prime(num):\n",
        "    for p in range(2,num):\n",
        "        status = True\n",
        "        for i in range(2,p):\n",
        "            if p % i == 0:\n",
        "                status = False\n",
        "        if status:\n",
        "            print(p)\n",
        "\n",
        "\n",
        "prime(101)\n",
        "\n",
        "print (\"the end\")"
      ],
      "execution_count": null,
      "outputs": [
        {
          "output_type": "stream",
          "text": [
            "2\n",
            "3\n",
            "5\n",
            "7\n",
            "11\n",
            "13\n",
            "17\n",
            "19\n",
            "23\n",
            "29\n",
            "31\n",
            "37\n",
            "41\n",
            "43\n",
            "47\n",
            "53\n",
            "59\n",
            "61\n",
            "67\n",
            "71\n",
            "73\n",
            "79\n",
            "83\n",
            "89\n",
            "97\n",
            "the end\n"
          ],
          "name": "stdout"
        }
      ]
    }
  ]
}